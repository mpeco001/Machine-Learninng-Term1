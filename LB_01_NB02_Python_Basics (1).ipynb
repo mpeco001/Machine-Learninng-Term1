{
 "cells": [
  {
   "cell_type": "markdown",
   "metadata": {},
   "source": [
    "# 2. Python Basics\n",
    "\n",
    "\n",
    "**Instructions:**\n",
    "* go through the notebook and complete the **tasks** .  \n",
    "* Make sure you understand the examples given!\n",
    "* ** Save your notebooks when you are done! **\n",
    "\n",
    "The purpose of this exercise is to cover some fundamentals regarding programming in Python.  \n",
    "\n",
    "\n",
    "More details on documentation / resources here:\n",
    "https://learn.gold.ac.uk/mod/page/view.php?id=487982"
   ]
  },
  {
   "cell_type": "markdown",
   "metadata": {},
   "source": [
    "## 2.1 Variables\n",
    "Python is an untyped language, and variables can be defined anywhere and in the script.  The variable type is implicit according to syntax. E.g.,\n",
    "\n",
    "    my_string = \"Some characters\" # define a string (text)\n",
    "    my_int = 1234                 # define an integer\n",
    "    my_float = 3.14               # define a floating point number\n",
    "    my_bool = True                # define a boolean (true or false value)\n",
    "    \n",
    "<span style=\"color:rgb(170,0,0)\">**Task:**</span> Copy the above code, paste it into the empty cell below and then add the following\n",
    "\n",
    "    print( my_string, my_int, my_float, my_bool )  \n",
    "    type(my_string)\n",
    "    \n",
    "Then execute the cell and observe the output."
   ]
  },
  {
   "cell_type": "code",
   "execution_count": 1,
   "metadata": {
    "collapsed": true
   },
   "outputs": [],
   "source": [
    "#Code here"
   ]
  },
  {
   "cell_type": "markdown",
   "metadata": {},
   "source": [
    "## 2.2 Loops\n",
    "** Python does not use curly braces or other symbols for grouping.  It uses purely indentation! **\n",
    "\n",
    "** You can use <Ctrl>+] and <Ctrl>+[ or `tab` to change the indentation of a selected code block **\n",
    "\n",
    "Here is an example using **for**: although a simple example, Python can do much more with loops\n",
    "\n",
    "    #C++\n",
    "    for(int i=0; i<3; i++) {\n",
    "        std::cout << i << std::endl;\n",
    "    }\n",
    "    std::cout << \"end\" << std::endl;\n",
    "    \n",
    "    #Java \n",
    "    for(int i=0; i<3; i++) {\n",
    "      System.out.println(i);\n",
    "    }\n",
    "    System.out.println(\"end\");\n",
    "    \n",
    "    #Python\n",
    "    for i in range(0,3):\n",
    "        print i    # indented line is part of the for statement \n",
    "    print \"end\";   # not part of the for statement since same indent\n",
    "    \n",
    "Using **while**, we can write:\n",
    "\n",
    "\n",
    "    i=0\n",
    "    while(i<3):\n",
    "        print i #indented line is part of the while statement\n",
    "        i+=1    #indented line is part of the while statement\n",
    "    print \"end\" #not part of the while statement since same indent\n"
   ]
  },
  {
   "cell_type": "markdown",
   "metadata": {},
   "source": [
    "## 2.3 Conditional Statements\n",
    "\n",
    "Conditional statements in python again rely on the indentation. For example,\n",
    "\n",
    "    a, b = 7, 6\n",
    "    if a < b:\n",
    "        print( str(a) + \" is less than \" + str(b) )\n",
    "        print(\"*\");\n",
    "    else:\n",
    "        print( str(a) + \" is greater than or equal to \" + str(b) )\n",
    "        \n",
    "<span style=\"color:rgb(170,0,0)\">**Task:**</span> \n",
    "- Run the code in the empty cell below to verify the result.  Note that `+` is used for string concatenation.\n",
    "- Noting that \"else if\" according to Python syntax is `elif`, extend the code above to check if the numbers are equal, and then print a message on screen."
   ]
  },
  {
   "cell_type": "code",
   "execution_count": 2,
   "metadata": {},
   "outputs": [],
   "source": [
    "#Code here"
   ]
  },
  {
   "cell_type": "markdown",
   "metadata": {},
   "source": [
    "## 2.4 Structures\n",
    "### 2.4.1 Lists \n",
    "\n",
    "In Python, one-dimensional arrays are referred to as **lists**. They are defined with square brackets and comma separated values like this:\n",
    "\n",
    "    my_list = [ \"hello\", 2, 2, 2.5, False ]\n",
    "    \n",
    "Notice how the list can contain a mixture of data types, and that the values do not have to be unique. It can also contain other lists:\n",
    "\n",
    "    my_next_list = [ my_list, 4, [2, 1], False ]\n",
    "    \n",
    "To access an **item** in a list, use the list list name followed by square brackets with the item index inside. List elements are indexed from 0. For example,\n",
    "\n",
    "    print( my_next_list[1] )\n",
    "    \n",
    "will output the integer 4.\n",
    "\n",
    "We can check the length of the list by using\n",
    "\n",
    "    len( my_list )\n",
    "    \n",
    "while we can append a new item to a list by using \n",
    "\n",
    "    my_list.append( \"A new list item\" )\n",
    "    \n",
    "\n",
    "<span style=\"color:rgb(170,0,0)\">**Task:**</span> write a for loop in python that iterates and prints *the type* of every element of the list my_list defined above in the cell below.  Do it\n",
    "- By using `range` as in 2.2\n",
    "- By not using `range` (hint: look at the for loops  <a href=\"https://docs.python.org/3/library/functions.html?highlight=list#list\">here</a>)"
   ]
  },
  {
   "cell_type": "code",
   "execution_count": 3,
   "metadata": {
    "collapsed": true
   },
   "outputs": [],
   "source": [
    "#Code here"
   ]
  },
  {
   "cell_type": "markdown",
   "metadata": {},
   "source": [
    "### 2.4.2 Dictionaries \n",
    "Dictionaries in Python (and other languages) are essentially **key, value pairs**, like associative arrays.\n",
    "\n",
    "A dictionary can be defined as\n",
    "\n",
    "    my_dict = { \"key1\" : \"value1\", \"key2\" : \"value2\" , \"key3\" : \"value3\" }\n",
    "    \n",
    "The values in a dictionary needn't be unique, and they can contain arbitrary data types. The keys must be unique and of an immutable data type, such as integer or string.\n",
    "\n",
    "To access the values in a dictionary, you reference the dictionary name followed by the name of the key in square brackets. For example,\n",
    "\n",
    "    value_1 = my_dict[\"key1\"]\n",
    "    \n",
    "<span style=\"color:rgb(170,0,0)\">**Task:**</span>  Create a dictionary containing the values in the following list:\n",
    "\n",
    "    my_list = [ \"hello\", 2, 2, 2.5, False ]\n",
    "    \n",
    "with the keys being the order in which the items appear in the list (starting from zero).  You can do this in the cell provided below."
   ]
  },
  {
   "cell_type": "code",
   "execution_count": 4,
   "metadata": {
    "collapsed": true
   },
   "outputs": [],
   "source": [
    "#Code here"
   ]
  },
  {
   "cell_type": "markdown",
   "metadata": {},
   "source": [
    "### 2.4.3 Functions\n",
    "\n",
    "You can define functions in Python like this:\n",
    "\n",
    "    def addNumbers( num1, num2 ):\n",
    "        sum = num1 + num2\n",
    "        return sum\n",
    "        \n",
    "Note that the `addNumbers` function accepts 2 arguments (the inputs), and returns a single output. You would call this function elsewhere in the program like this:\n",
    "\n",
    "    result = addNumbers( 3, 5 )\n",
    "    \n",
    "Notice how the output is being assigned to a variable here.\n",
    "\n",
    "<span style=\"color:rgb(170,0,0)\">**Task:**</span>  \n",
    "- Define a function `my_list_rev` that accepts a list as an input, and returns the same list but in the reverse order (Hint: use the `reverse()` function). \n",
    "- Call the function, assign the output to a variable and verify the result by printing on screen.\n",
    "- Do this in the empty cell below\n"
   ]
  },
  {
   "cell_type": "code",
   "execution_count": 5,
   "metadata": {},
   "outputs": [],
   "source": [
    "#Code here"
   ]
  }
 ],
 "metadata": {
  "kernelspec": {
   "display_name": "Python 3",
   "language": "python",
   "name": "python3"
  },
  "language_info": {
   "codemirror_mode": {
    "name": "ipython",
    "version": 3
   },
   "file_extension": ".py",
   "mimetype": "text/x-python",
   "name": "python",
   "nbconvert_exporter": "python",
   "pygments_lexer": "ipython3",
   "version": "3.6.7"
  }
 },
 "nbformat": 4,
 "nbformat_minor": 1
}
