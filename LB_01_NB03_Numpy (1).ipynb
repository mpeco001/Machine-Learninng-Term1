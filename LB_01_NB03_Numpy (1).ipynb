{
 "cells": [
  {
   "cell_type": "markdown",
   "metadata": {},
   "source": [
    "# 3. Introduction to numpy\n",
    "\n",
    "\n",
    "**Instructions:**\n",
    "* go through the notebook and complete the **tasks** .  \n",
    "* Make sure you understand the examples given!\n",
    "* ** Save your notebooks when you are done! **\n",
    "\n",
    "Note that we use the import keyword to import modules and libraries in Python (more <a href=\"https://docs.python.org/3/tutorial/modules.html\">here</a>)\n",
    "\n",
    "See details on documentation / resources here:\n",
    "https://learn.gold.ac.uk/mod/page/view.php?id=487982"
   ]
  },
  {
   "cell_type": "code",
   "execution_count": 4,
   "metadata": {
    "collapsed": true
   },
   "outputs": [],
   "source": [
    "import numpy as np"
   ]
  },
  {
   "cell_type": "markdown",
   "metadata": {
    "collapsed": true
   },
   "source": [
    "## 3.2 Numpy Arrays\n",
    "Numpy ndarrays are a fundamental structure for ML in python.\n",
    "\n",
    "\n",
    "### 3.2.1 Usage Examples\n",
    "\n",
    "** Create numpy array from list **\n",
    "\n",
    "    data1D = [6, 7, 8]\n",
    "    data1DnD = np.array(data1D)\n",
    "    print(data1D)\n",
    "    print(data1DnD)\n",
    "   \n",
    "\n",
    "** print useful properties of our array **\n",
    "\n",
    "    print(data1DnD.shape)\n",
    "    print(data1DnD.ndim)\n",
    "    print(data1DnD.dtype)\n",
    "    \n",
    "    \n",
    "** change type of elements **\n",
    "\n",
    "    data1DnD_float = data1DnD.astype(np.float)\n",
    "    data1DnD_string = data1DnD.astype(np.string_)\n",
    "   \n",
    "    \n",
    "** array indexing **\n",
    "\n",
    "    print(a[0])   #return the first element of ndarray a\n",
    "    print(a[:])   #return all the elements of ndarray a\n",
    "    print(a[-1])  #return the last element of ndarray a\n",
    "    print(a[:-1]) #return everything up to the last element\n",
    "    print(a[:-2]) #return everything up to the second last element\n",
    "    print(a[-2])  #return the second last element\n",
    "\n",
    "** various ways of creating an ndarray **\n",
    "\n",
    "    a = np.array([1, 2, 3])\n",
    "    b = np.zeros((1,5))              # Create an array of all zeros\n",
    "    c = np.ones((1,5))               # Create an array of all ones\n",
    "    d = np.full((1,5), 7)            # Create an array filled with value 7\n",
    "    e = np.random.random((1,4))      # Create an array filled with random values\n",
    "    f = np.eye(3)                    # Create a 3x3 identity matrix (2D array)\n",
    "    g = np.ones((3,3,3))             # 3-Dimensional array\n",
    "    \n",
    "** generalization to n-dimensional arrays **\n",
    "\n",
    "    A=np.array([ [1,2], [3,4] ])     # Create a 2-D array (Matrix)\n",
    "    print(A[0,1])                    # return the element on first column, second row (0,1)=2\n",
    "                                     # array indexing works as above\n",
    "    \n",
    "\n",
    "** reshaping **\n",
    "\n",
    "    We can reshape a vector (e.g., v=[v1,v2,...vN]) to a matrix of N1, N2 dimensions (where N1xN2 = N)\n",
    "    This is very useful for plotting images.  For 2 dimensions, the related numpy method is np.reshape(ndarray, [dim1, dim2])\n",
    "<hr>"
   ]
  },
  {
   "cell_type": "markdown",
   "metadata": {},
   "source": [
    "<span style=\"color:rgb(170,0,0)\">**Task:**</span>\n",
    "- Go through the examples above, pasting the code given in the empty cell below and verifying the results.  \n",
    "- Make sure you understand what this basic code does (numpy documentation <a href=\"http://docs.scipy.org/doc/numpy/reference/generated/numpy.ndarray.html\">here</a>)"
   ]
  },
  {
   "cell_type": "code",
   "execution_count": 2,
   "metadata": {},
   "outputs": [
    {
     "name": "stdout",
     "output_type": "stream",
     "text": [
      "[1, 2, 3]\n",
      "[1 2 3]\n",
      "1\n",
      "(3,)\n",
      "int64\n"
     ]
    }
   ],
   "source": [
    "#Code here\n",
    "import numpy as np\n",
    "\n",
    "list2D = [1,2,3]\n",
    "print(list2D)\n",
    "\n",
    "listNp = np.array(list2D)\n",
    "print(listNp)\n",
    "print(listNp.ndim)\n",
    "print(listNp.shape)\n",
    "print(listNp.dtype)"
   ]
  },
  {
   "cell_type": "markdown",
   "metadata": {},
   "source": [
    "<span style=\"color:rgb(170,0,0)\">**Task:**</span> In the empty cell below,  create an np array called L consisting of 15 random elements"
   ]
  },
  {
   "cell_type": "code",
   "execution_count": 3,
   "metadata": {},
   "outputs": [
    {
     "name": "stdout",
     "output_type": "stream",
     "text": [
      "[[0.6915617  0.14658189 0.00503032 0.7908587  0.37695818 0.31499649\n",
      "  0.84245315 0.88957973 0.32007159 0.23592368 0.91997054 0.53851964\n",
      "  0.59943835 0.09706881 0.23901666]]\n"
     ]
    },
    {
     "ename": "TypeError",
     "evalue": "only size-1 arrays can be converted to Python scalars",
     "output_type": "error",
     "traceback": [
      "\u001b[0;31m---------------------------------------------------------------------------\u001b[0m",
      "\u001b[0;31mTypeError\u001b[0m                                 Traceback (most recent call last)",
      "\u001b[0;32m<ipython-input-3-fc598249dead>\u001b[0m in \u001b[0;36m<module>\u001b[0;34m\u001b[0m\n\u001b[1;32m      2\u001b[0m \u001b[0mL\u001b[0m \u001b[0;34m=\u001b[0m \u001b[0mnp\u001b[0m\u001b[0;34m.\u001b[0m\u001b[0mrandom\u001b[0m\u001b[0;34m.\u001b[0m\u001b[0mrandom\u001b[0m\u001b[0;34m(\u001b[0m\u001b[0;34m(\u001b[0m\u001b[0;36m1\u001b[0m\u001b[0;34m,\u001b[0m\u001b[0;36m15\u001b[0m\u001b[0;34m)\u001b[0m\u001b[0;34m)\u001b[0m\u001b[0;34m\u001b[0m\u001b[0;34m\u001b[0m\u001b[0m\n\u001b[1;32m      3\u001b[0m \u001b[0mprint\u001b[0m\u001b[0;34m(\u001b[0m\u001b[0mL\u001b[0m\u001b[0;34m)\u001b[0m\u001b[0;34m\u001b[0m\u001b[0;34m\u001b[0m\u001b[0m\n\u001b[0;32m----> 4\u001b[0;31m \u001b[0mL1\u001b[0m \u001b[0;34m=\u001b[0m \u001b[0mnp\u001b[0m\u001b[0;34m.\u001b[0m\u001b[0marange\u001b[0m\u001b[0;34m(\u001b[0m\u001b[0mL\u001b[0m\u001b[0;34m)\u001b[0m\u001b[0;34m.\u001b[0m\u001b[0mreshape\u001b[0m\u001b[0;34m(\u001b[0m\u001b[0;36m5\u001b[0m\u001b[0;34m,\u001b[0m\u001b[0;36m3\u001b[0m\u001b[0;34m)\u001b[0m\u001b[0;34m\u001b[0m\u001b[0;34m\u001b[0m\u001b[0m\n\u001b[0m",
      "\u001b[0;31mTypeError\u001b[0m: only size-1 arrays can be converted to Python scalars"
     ]
    }
   ],
   "source": [
    "#Code here\n",
    "L = np.random.random((1,15))  \n",
    "print(L)\n",
    "L1 = np.arange(L).reshape(5,3)"
   ]
  },
  {
   "cell_type": "markdown",
   "metadata": {},
   "source": [
    "<span style=\"color:rgb(170,0,0)\">**Task:**</span> Reshape the array L to a matrix A that has 5 rows and 3 columns.  Print the matrix to verify the result."
   ]
  },
  {
   "cell_type": "code",
   "execution_count": 8,
   "metadata": {},
   "outputs": [
    {
     "name": "stdout",
     "output_type": "stream",
     "text": [
      "[[0.6915617  0.14658189 0.00503032]\n",
      " [0.7908587  0.37695818 0.31499649]\n",
      " [0.84245315 0.88957973 0.32007159]\n",
      " [0.23592368 0.91997054 0.53851964]\n",
      " [0.59943835 0.09706881 0.23901666]]\n"
     ]
    }
   ],
   "source": [
    "#Code here\n",
    "A = np.reshape(L,[5,3])\n",
    "print(A)"
   ]
  },
  {
   "cell_type": "markdown",
   "metadata": {},
   "source": [
    "<span style=\"color:rgb(170,0,0)\">**Task:**</span> Reshape matrix A to a matrix B that has 3 rows and 5 columns.  Then, print the elements in row 0 and 1 only."
   ]
  },
  {
   "cell_type": "code",
   "execution_count": 11,
   "metadata": {},
   "outputs": [
    {
     "name": "stdout",
     "output_type": "stream",
     "text": [
      "[[0.6915617  0.14658189 0.00503032 0.7908587  0.37695818]\n",
      " [0.31499649 0.84245315 0.88957973 0.32007159 0.23592368]\n",
      " [0.91997054 0.53851964 0.59943835 0.09706881 0.23901666]]\n",
      "-----------\n",
      "[[0.6915617  0.14658189 0.00503032 0.7908587  0.37695818]\n",
      " [0.31499649 0.84245315 0.88957973 0.32007159 0.23592368]]\n"
     ]
    }
   ],
   "source": [
    "#Code here\n",
    "B = np.reshape(A,[3,5])\n",
    "print(B)\n",
    "print(\"-----------\")\n",
    "print(B[:-1])"
   ]
  },
  {
   "cell_type": "markdown",
   "metadata": {},
   "source": [
    "<span style=\"color:rgb(170,0,0)\">**Task:**</span> Print all elements of B that are in row 0 and 2 **and** column 1"
   ]
  },
  {
   "cell_type": "code",
   "execution_count": 25,
   "metadata": {},
   "outputs": [
    {
     "name": "stdout",
     "output_type": "stream",
     "text": [
      "[0.6915617  0.14658189 0.00503032 0.7908587  0.37695818] [0.91997054 0.53851964 0.59943835 0.09706881 0.23901666] [0.6915617  0.31499649 0.91997054]\n"
     ]
    }
   ],
   "source": [
    "\n",
    "#Code here\n",
    "print(B[0] , B[2]  , B[:,0])"
   ]
  },
  {
   "cell_type": "markdown",
   "metadata": {},
   "source": [
    "<span style=\"color:rgb(170,0,0)\">**Task:**</span> Print all elements of A that are in the last row (see the [-1] notation above) and second to last column.  "
   ]
  },
  {
   "cell_type": "code",
   "execution_count": 26,
   "metadata": {},
   "outputs": [
    {
     "name": "stdout",
     "output_type": "stream",
     "text": [
      "[0.91997054 0.53851964 0.59943835 0.09706881 0.23901666]\n"
     ]
    }
   ],
   "source": [
    "#Code here\n",
    "\n",
    "print( B[-1,:])"
   ]
  },
  {
   "cell_type": "markdown",
   "metadata": {},
   "source": [
    "<span style=\"color:rgb(170,0,0)\">**Task:**</span> Given the array Y below, find all **indices** in the array that are equal to the value 1.  Use the numpy function ``where`` to do that . Your final output should look like this: ``[1, 3, 4, 7]``.\n",
    "\n",
    "documentation: https://docs.scipy.org/doc/numpy-1.13.0/reference/generated/numpy.where.html"
   ]
  },
  {
   "cell_type": "code",
   "execution_count": 29,
   "metadata": {},
   "outputs": [
    {
     "name": "stdout",
     "output_type": "stream",
     "text": [
      "(array([0]),)\n"
     ]
    }
   ],
   "source": [
    "Y=np.array([0, 1, 0, 1,1, 2,0,1,0])\n",
    "#Code here\n",
    "\n",
    "YY= np.where(Y[1])\n",
    "print(YY)"
   ]
  },
  {
   "cell_type": "markdown",
   "metadata": {},
   "source": [
    "<span style=\"color:rgb(170,0,0)\">**Task:**</span> Split the array Y defined above into three arrays by using the numpy function ``array_split``.  Print to verify.\n",
    "\n",
    "Documentation: https://docs.scipy.org/doc/numpy-1.13.0/reference/generated/numpy.array_split.html. "
   ]
  },
  {
   "cell_type": "code",
   "execution_count": 19,
   "metadata": {},
   "outputs": [],
   "source": [
    "#Code here"
   ]
  },
  {
   "cell_type": "markdown",
   "metadata": {},
   "source": [
    "<span style=\"color:rgb(170,0,0)\">**Task:**</span> Given the array D defined below, find the **indices** that sort the array.  Use the numpy function ``argsort`` in order to do so.  Subsequently, print the sorted array.  Final output should look like this:\n",
    "``\n",
    "[ 0  1  2  5  9 10 20]\n",
    "``"
   ]
  },
  {
   "cell_type": "code",
   "execution_count": 18,
   "metadata": {},
   "outputs": [],
   "source": [
    "D=np.array([10,5,2,9,20,0,1])\n",
    "#Code here"
   ]
  },
  {
   "cell_type": "markdown",
   "metadata": {},
   "source": [
    "<span style=\"color:rgb(170,0,0)\">**Task:**</span> Create two random 2x2 matrices X and Y (2 rows, 2 columns).  Use the numpy function ``concatenate`` in order to concatenate them and create a matrix Z that has dimensions 4x2 and a matrix W that has dimensions 2x4\n",
    "\n",
    "documentation: https://docs.scipy.org/doc/numpy-1.13.0/reference/generated/numpy.concatenate.html"
   ]
  },
  {
   "cell_type": "code",
   "execution_count": null,
   "metadata": {
    "scrolled": true
   },
   "outputs": [],
   "source": [
    "#Code here"
   ]
  },
  {
   "cell_type": "markdown",
   "metadata": {},
   "source": [
    "<span style=\"color:rgb(170,0,0)\">**Task:**</span> Create the same matrices Z2=Z and W2=W (where Z and W are as defined above), but this time use the numpy functions ``hstack`` and ``vstack``\n",
    "\n",
    "Documentation:\n",
    "\n",
    "https://docs.scipy.org/doc/numpy-1.13.0/reference/generated/numpy.hstack.html#numpy.hstack\n",
    "\n",
    "https://docs.scipy.org/doc/numpy-1.13.0/reference/generated/numpy.vstack.html#numpy.vstack"
   ]
  },
  {
   "cell_type": "code",
   "execution_count": null,
   "metadata": {},
   "outputs": [],
   "source": [
    "#Code here"
   ]
  }
 ],
 "metadata": {
  "kernelspec": {
   "display_name": "Python 3",
   "language": "python",
   "name": "python3"
  },
  "language_info": {
   "codemirror_mode": {
    "name": "ipython",
    "version": 3
   },
   "file_extension": ".py",
   "mimetype": "text/x-python",
   "name": "python",
   "nbconvert_exporter": "python",
   "pygments_lexer": "ipython3",
   "version": "3.6.7"
  }
 },
 "nbformat": 4,
 "nbformat_minor": 1
}
